{
  "nbformat": 4,
  "nbformat_minor": 0,
  "metadata": {
    "colab": {
      "name": "Hamoye Stage E - Time Series Analysis.ipynb",
      "provenance": [],
      "collapsed_sections": [],
      "mount_file_id": "1JX1_KRYAUWk940zYTT7i5TpHkHfzT5o2",
      "authorship_tag": "ABX9TyP1MQPOKdru64csfVFFWTK6"
    },
    "kernelspec": {
      "name": "python3",
      "display_name": "Python 3"
    },
    "language_info": {
      "name": "python"
    }
  },
  "cells": [
    {
      "cell_type": "code",
      "metadata": {
        "id": "wrXdYXb-ksD7"
      },
      "source": [
        "import pandas as pd\n",
        "import numpy as np\n",
        "\n",
        "!unzip /content/drive/MyDrive/household_power_consumption.zip"
      ],
      "execution_count": null,
      "outputs": []
    },
    {
      "cell_type": "code",
      "metadata": {
        "id": "iJUcoOcBlTGx"
      },
      "source": [
        "df = pd.read_csv('household_power_consumption.txt', sep=';', low_memory=False, infer_datetime_format=True,\n",
        "                 parse_dates={'datetime':[0,1]}, index_col=['datetime'])"
      ],
      "execution_count": null,
      "outputs": []
    },
    {
      "cell_type": "code",
      "metadata": {
        "id": "BGXRXRSOm1MH"
      },
      "source": [
        "df.head(5)"
      ],
      "execution_count": null,
      "outputs": []
    },
    {
      "cell_type": "code",
      "metadata": {
        "id": "H9Z3P3FjnjVP"
      },
      "source": [
        "df.isna().sum()"
      ],
      "execution_count": null,
      "outputs": []
    },
    {
      "cell_type": "code",
      "metadata": {
        "id": "UkivOH3X0wFV"
      },
      "source": [
        "df.replace('?', np.nan, inplace=True)"
      ],
      "execution_count": null,
      "outputs": []
    },
    {
      "cell_type": "code",
      "metadata": {
        "id": "iH9Dhaw_T8v_"
      },
      "source": [
        "df = df.astype('float64')"
      ],
      "execution_count": null,
      "outputs": []
    },
    {
      "cell_type": "code",
      "metadata": {
        "id": "XO0xzJKI0Vfv"
      },
      "source": [
        "y = df.Global_active_power.copy()"
      ],
      "execution_count": null,
      "outputs": []
    },
    {
      "cell_type": "markdown",
      "metadata": {
        "id": "06vkh0Zs1SBC"
      },
      "source": [
        "#### Question 11\n",
        "\n",
        "Question 11\n",
        "Resample the data from a minute sampling rate to a daily sampling rate (i.e sum over the minutes for each day). Also, fill all the missing values with the mean (average) of their attribute/column. Which of the following is a plot of the daily global_active_power over time?"
      ]
    },
    {
      "cell_type": "code",
      "metadata": {
        "id": "STFeGJ-J1ITY"
      },
      "source": [
        "import matplotlib.pyplot as plt"
      ],
      "execution_count": null,
      "outputs": []
    },
    {
      "cell_type": "code",
      "metadata": {
        "id": "JERDD1e45rwb"
      },
      "source": [
        "%matplotlib inline"
      ],
      "execution_count": null,
      "outputs": []
    },
    {
      "cell_type": "code",
      "metadata": {
        "id": "tnJZaRWa5LwA"
      },
      "source": [
        "df_resampled = df.resample('D').sum()\n",
        "df_resampled = df_resampled.fillna('mean')\n",
        "plt.figure(figsize=(10, 10))\n",
        "plt.plot(df_resampled.index, df_resampled.Global_active_power,)\n",
        "plt.show()"
      ],
      "execution_count": null,
      "outputs": []
    },
    {
      "cell_type": "markdown",
      "metadata": {
        "id": "XWU-iPV11XOG"
      },
      "source": [
        "#### Question 12\n",
        "\n",
        "What is the Pearson correlation coefficient between the global_active_power and global_reactive_power? To 2 decimal places."
      ]
    },
    {
      "cell_type": "code",
      "metadata": {
        "id": "3XZyhdYl6j-I"
      },
      "source": [
        "corr = df_resampled['Global_active_power'].corr(df_resampled['Global_reactive_power'], method='pearson')\n",
        "round(corr, 2)"
      ],
      "execution_count": null,
      "outputs": []
    },
    {
      "cell_type": "markdown",
      "metadata": {
        "id": "921SDZybF1sS"
      },
      "source": [
        "#### Question 13\n",
        "\n",
        "What is the Pearson correlation coefficient between the Voltage and global_intensity? To 2 decimal places"
      ]
    },
    {
      "cell_type": "code",
      "metadata": {
        "id": "qfDfeJ1GFO3E"
      },
      "source": [
        "corr2 = df_resampled['Global_intensity'].corr(df_resampled['Voltage'])\n",
        "round(corr2, 2)"
      ],
      "execution_count": null,
      "outputs": []
    },
    {
      "cell_type": "markdown",
      "metadata": {
        "id": "iejc8FFtaEc9"
      },
      "source": [
        "#### Question 14\n",
        "\n",
        "Using the daily sampling rate (sum), divide the data into a train and test set. The last 365 days is your test set and the first (x-365) days is your training set. Where x is the length of the dataset. Use Facebook Prophet to train a Univariate time series modeling using this time column (‘dt’ or ‘ds’) and the global_active_power (or ‘y’). Answer question 14 - 16\n",
        "\n",
        "Evaluating the results of your time series modeling on the test set, what is the MAPE (in %) in 2 decimal places?"
      ]
    },
    {
      "cell_type": "code",
      "metadata": {
        "id": "uW6kC_1rdhPc"
      },
      "source": [
        "len(df_resampled)"
      ],
      "execution_count": null,
      "outputs": []
    },
    {
      "cell_type": "code",
      "metadata": {
        "id": "c03sN1HCdlAG"
      },
      "source": [
        "1442-365"
      ],
      "execution_count": null,
      "outputs": []
    },
    {
      "cell_type": "code",
      "metadata": {
        "id": "YP3-SRRXGNeS"
      },
      "source": [
        "train = df_resampled.iloc[:1077, :]\n",
        "test = df_resampled.iloc[:365, :]\n",
        "train.shape, test.shape"
      ],
      "execution_count": null,
      "outputs": []
    },
    {
      "cell_type": "code",
      "metadata": {
        "id": "kzMmxgxadwdj"
      },
      "source": [
        "from fbprophet import Prophet"
      ],
      "execution_count": null,
      "outputs": []
    },
    {
      "cell_type": "code",
      "metadata": {
        "id": "sHvntseUfuIH"
      },
      "source": [
        "train.reset_index(inplace = True)\n",
        "train.head()"
      ],
      "execution_count": null,
      "outputs": []
    },
    {
      "cell_type": "code",
      "metadata": {
        "id": "U-TwTFiNgraB"
      },
      "source": [
        "test.reset_index(inplace=True)"
      ],
      "execution_count": null,
      "outputs": []
    },
    {
      "cell_type": "code",
      "metadata": {
        "id": "SCvu-nf1gRap"
      },
      "source": [
        "X_train = train['datetime'].copy()\n",
        "y_train = train['Global_active_power'].copy()\n",
        "X_test = test['datetime'].copy()\n",
        "y_test = test['Global_active_power'].copy()"
      ],
      "execution_count": null,
      "outputs": []
    },
    {
      "cell_type": "code",
      "metadata": {
        "id": "2Y9lkHuxgwjO"
      },
      "source": [
        "model = Prophet()\n",
        "df_train = pd.DataFrame(data=list(zip(X_train, y_train)), columns=['ds', 'y']) \n",
        "model.fit(df_train)"
      ],
      "execution_count": null,
      "outputs": []
    },
    {
      "cell_type": "code",
      "metadata": {
        "id": "135f-XBeg4GT"
      },
      "source": [
        "df_test = pd.DataFrame(data=list(zip(X_test, y_test)), columns=['ds', 'y']) \n",
        "forecast = model.predict()"
      ],
      "execution_count": null,
      "outputs": []
    },
    {
      "cell_type": "code",
      "metadata": {
        "id": "vI3F0vQzikrJ"
      },
      "source": [
        "def Metric(y_true, y_pred):\n",
        "  y_true, y_pred = np.array(y_true), np.array(y_pred)\n",
        "  return np.mean(np.abs((y_true - y_pred)  / y_true)) * 100"
      ],
      "execution_count": null,
      "outputs": []
    },
    {
      "cell_type": "code",
      "metadata": {
        "id": "m7QLQ9WtioUG"
      },
      "source": [
        "MAPE = Metric(df_test[''], forecast['yhat'])\n",
        "round(MAPE, 2)"
      ],
      "execution_count": null,
      "outputs": []
    },
    {
      "cell_type": "markdown",
      "metadata": {
        "id": "X8VMvsbvf8-d"
      },
      "source": [
        "#### Question 15\n",
        "\n",
        "What is the RMSE in 2 decimal places?"
      ]
    },
    {
      "cell_type": "code",
      "metadata": {
        "id": "JqLFJdfMgAAb"
      },
      "source": [
        "from sklearn import metrics\n",
        "round(np.sqrt(metrics.mean_squared_error(df_test['y'],forecast['yhat'])), 2)"
      ],
      "execution_count": null,
      "outputs": []
    },
    {
      "cell_type": "code",
      "metadata": {
        "id": "X4FFtV7Mj-On"
      },
      "source": [
        "model.plot_components(forecast)"
      ],
      "execution_count": null,
      "outputs": []
    },
    {
      "cell_type": "markdown",
      "metadata": {
        "id": "0IvODi2okWnc"
      },
      "source": [
        "#### Question 17\n",
        "\n",
        "Multivariate Time Series Forecasting with Facebook Prophet\n",
        "\n",
        "In the last exercise, we used only the dependent variable (Global_Active_Power) and the time component for our modeling (ds vs y). Next, we will build a time series model using the other variables. These variables will be added to the forecast model as a regressor on Facebook Prophet. So the six independent variables ['Global_reactive_power', 'Voltage','Global_intensity', 'Sub_metering_1','Sub_metering_2','Sub_metering_3'] will be [‘add1’, ‘add2’, ‘add3’, ‘add4’, ‘add5’, ‘add6’] as the regressors. Split the data into train and test as done above and build a multivariate forecast model to forecast the last 365 days of the house consumption (‘global_active_power’). Answer question 17-19:\n",
        "\n",
        "Evaluating the results of your time series modeling on the test set, what is the MAPE (in %) in 2 decimal places?"
      ]
    },
    {
      "cell_type": "code",
      "metadata": {
        "id": "im73DAYQkWAP"
      },
      "source": [
        "df_resampled.reset_index(inplace=True)\n",
        "new_df = df_resampled.rename(columns = {'datetime':'ds','Global_active_power':'y',\n",
        "                                           'Global_reactive_power':'add1','Voltage':'add2',\n",
        "                                           'Global_intensity':'add3','Sub_metering_1':'add4',\n",
        "                                          'Sub_metering_2':'add5','Sub_metering_3':'add6'})"
      ],
      "execution_count": null,
      "outputs": []
    },
    {
      "cell_type": "code",
      "metadata": {
        "id": "V0MUJdiemYvB"
      },
      "source": [
        "Train = new_df.iloc[:1077,:]\n",
        "Test = new_df.iloc[1077:,:]\n",
        "Test.shape, Train.shape"
      ],
      "execution_count": null,
      "outputs": []
    },
    {
      "cell_type": "code",
      "metadata": {
        "id": "bsDSTEBQmgp6"
      },
      "source": [
        "model = Prophet()\n",
        "model.add_regressor('add1')\n",
        "model.add_regressor('add2')\n",
        "model.add_regressor('add3')\n",
        "model.add_regressor('add4')\n",
        "model.add_regressor('add5')\n",
        "model.add_regressor('add6')"
      ],
      "execution_count": null,
      "outputs": []
    },
    {
      "cell_type": "code",
      "metadata": {
        "id": "GIO4UjFWmkNK"
      },
      "source": [
        "model = model.fit(Train)"
      ],
      "execution_count": null,
      "outputs": []
    },
    {
      "cell_type": "code",
      "metadata": {
        "id": "maCrlV2enk3G"
      },
      "source": [
        "prediction = model.predict(Test)"
      ],
      "execution_count": null,
      "outputs": []
    },
    {
      "cell_type": "code",
      "metadata": {
        "id": "lV8njRBWn0pO"
      },
      "source": [
        "round(Metric(Test['y'], prediction['yhat']), 2)"
      ],
      "execution_count": null,
      "outputs": []
    },
    {
      "cell_type": "code",
      "metadata": {
        "id": "upICoR6_oB8U"
      },
      "source": [
        "round(np.sqrt(metrics.mean_squared_error(Test['y'],prediction['yhat'])), 2)"
      ],
      "execution_count": null,
      "outputs": []
    },
    {
      "cell_type": "code",
      "metadata": {
        "id": "eVqQ1NXhoOIl"
      },
      "source": [
        "model.plot_components(prediction)"
      ],
      "execution_count": null,
      "outputs": []
    }
  ]
}